{
  "nbformat": 4,
  "nbformat_minor": 0,
  "metadata": {
    "colab": {
      "name": "PYIM_Assgn_3_8_Dion_Qairawan.ipynb",
      "provenance": [],
      "authorship_tag": "ABX9TyOUUaTHa1m4R7/dSONuHInY",
      "include_colab_link": true
    },
    "kernelspec": {
      "name": "python3",
      "display_name": "Python 3"
    },
    "language_info": {
      "name": "python"
    },
    "accelerator": "GPU"
  },
  "cells": [
    {
      "cell_type": "markdown",
      "metadata": {
        "id": "view-in-github",
        "colab_type": "text"
      },
      "source": [
        "<a href=\"https://colab.research.google.com/github/dionq99/Hacktiv8-Assignment/blob/main/PYIM_Assgn_3_8_Dion_Qairawan.ipynb\" target=\"_parent\"><img src=\"https://colab.research.google.com/assets/colab-badge.svg\" alt=\"Open In Colab\"/></a>"
      ]
    },
    {
      "cell_type": "markdown",
      "metadata": {
        "id": "efNNx3igmUB0"
      },
      "source": [
        "**Import all necessary modules**"
      ]
    },
    {
      "cell_type": "code",
      "metadata": {
        "id": "ObtLTi3ELFtt"
      },
      "source": [
        "import numpy as np\n",
        "import tensorflow_datasets as tfds\n",
        "import tensorflow as tf\n",
        "import matplotlib.pyplot as plt\n",
        "\n",
        "tfds.disable_progress_bar()"
      ],
      "execution_count": null,
      "outputs": []
    },
    {
      "cell_type": "markdown",
      "metadata": {
        "id": "V2w_Lcn9mXnj"
      },
      "source": [
        "**Download dataset**\n",
        "\n",
        "This dataset contains comment from wikipedia talk pages that has been annotated for toxicity."
      ]
    },
    {
      "cell_type": "code",
      "metadata": {
        "id": "gWMgsyvHSERm",
        "colab": {
          "base_uri": "https://localhost:8080/"
        },
        "outputId": "216ea3e4-8c1f-4cc2-e221-62025725a745"
      },
      "source": [
        "dataset= tfds.load('wikipedia_toxicity_subtypes', as_supervised=True)"
      ],
      "execution_count": null,
      "outputs": [
        {
          "output_type": "stream",
          "text": [
            "\u001b[1mDownloading and preparing dataset wikipedia_toxicity_subtypes/0.2.0 (download: 36.85 MiB, generated: 118.09 MiB, total: 154.94 MiB) to /root/tensorflow_datasets/wikipedia_toxicity_subtypes/0.2.0...\u001b[0m\n",
            "Shuffling and writing examples to /root/tensorflow_datasets/wikipedia_toxicity_subtypes/0.2.0.incompleteVYD1Q0/wikipedia_toxicity_subtypes-train.tfrecord\n",
            "Shuffling and writing examples to /root/tensorflow_datasets/wikipedia_toxicity_subtypes/0.2.0.incompleteVYD1Q0/wikipedia_toxicity_subtypes-test.tfrecord\n",
            "\u001b[1mDataset wikipedia_toxicity_subtypes downloaded and prepared to /root/tensorflow_datasets/wikipedia_toxicity_subtypes/0.2.0. Subsequent calls will reuse this data.\u001b[0m\n"
          ],
          "name": "stdout"
        }
      ]
    },
    {
      "cell_type": "markdown",
      "metadata": {
        "id": "w9_RqIfPm326"
      },
      "source": [
        "**Split dataset into training and testing subset**"
      ]
    },
    {
      "cell_type": "code",
      "metadata": {
        "colab": {
          "base_uri": "https://localhost:8080/"
        },
        "id": "nTNk7DUtSHmG",
        "outputId": "17944873-d228-49d1-da83-4c45f29c5e0f"
      },
      "source": [
        "train_dataset, test_dataset = dataset['train'], dataset['test']\n",
        "train_dataset.element_spec"
      ],
      "execution_count": null,
      "outputs": [
        {
          "output_type": "execute_result",
          "data": {
            "text/plain": [
              "(TensorSpec(shape=(), dtype=tf.string, name=None),\n",
              " TensorSpec(shape=(), dtype=tf.float32, name=None))"
            ]
          },
          "metadata": {
            "tags": []
          },
          "execution_count": 4
        }
      ]
    },
    {
      "cell_type": "markdown",
      "metadata": {
        "id": "XAaWp36Fer8C"
      },
      "source": [
        "**Show data samples from dataset**"
      ]
    },
    {
      "cell_type": "code",
      "metadata": {
        "id": "Otjd9Xe7ScMW"
      },
      "source": [
        "#0-Neutral, 1-Toxic\n",
        "for example, label in train_dataset.take(5):\n",
        "  print('text: ', example.numpy())\n",
        "  print('label: ', label.numpy())"
      ],
      "execution_count": null,
      "outputs": []
    },
    {
      "cell_type": "markdown",
      "metadata": {
        "id": "ceFT0qRvfOou"
      },
      "source": [
        "**Prefetch data to optimize performance**"
      ]
    },
    {
      "cell_type": "code",
      "metadata": {
        "id": "0jRdRebNScE1"
      },
      "source": [
        "#Set buffer size and batch size for optimization\n",
        "BUFFER_SIZE = 10000\n",
        "BATCH_SIZE = 64\n",
        "\n",
        "#Autotune the dataset\n",
        "train_dataset = train_dataset.shuffle(BUFFER_SIZE).batch(BATCH_SIZE).prefetch(tf.data.AUTOTUNE)\n",
        "test_dataset = test_dataset.batch(BATCH_SIZE).prefetch(tf.data.AUTOTUNE)\n",
        "\n",
        "#Check the autotune result, shuffled from before\n",
        "for example, label in train_dataset.take(1):\n",
        "  print('texts: ', example.numpy()[3])\n",
        "  print()\n",
        "  print('labels: ', label.numpy()[3])"
      ],
      "execution_count": null,
      "outputs": []
    },
    {
      "cell_type": "markdown",
      "metadata": {
        "id": "M4hi33q0fcow"
      },
      "source": [
        "**Prepare Encoder layer**"
      ]
    },
    {
      "cell_type": "code",
      "metadata": {
        "id": "MB4HnKDlSb9g"
      },
      "source": [
        "#Set Vocabulary size and vectorize the data\n",
        "VOCAB_SIZE = 10000\n",
        "encoder = tf.keras.layers.experimental.preprocessing.TextVectorization(\n",
        "    max_tokens=VOCAB_SIZE)\n",
        "encoder.adapt(train_dataset.map(lambda text, label: text))"
      ],
      "execution_count": null,
      "outputs": []
    },
    {
      "cell_type": "markdown",
      "metadata": {
        "id": "E8tPQwXofiMc"
      },
      "source": [
        "**Define Model**"
      ]
    },
    {
      "cell_type": "code",
      "metadata": {
        "id": "vGlSP7c_Sb52"
      },
      "source": [
        "model = tf.keras.Sequential([\n",
        "    encoder,\n",
        "    tf.keras.layers.Embedding(\n",
        "        input_dim=len(encoder.get_vocabulary()),\n",
        "        output_dim=64,\n",
        "        # Use masking to handle the variable sequence lengths\n",
        "        mask_zero=True),\n",
        "    tf.keras.layers.Bidirectional(tf.keras.layers.LSTM(64)),\n",
        "    tf.keras.layers.Dense(64, activation='relu'),\n",
        "    tf.keras.layers.Dropout(0.5),\n",
        "    tf.keras.layers.Dense(2) #number of class: 0,1\n",
        "])"
      ],
      "execution_count": null,
      "outputs": []
    },
    {
      "cell_type": "markdown",
      "metadata": {
        "id": "iGig3yV1f5kQ"
      },
      "source": [
        "**Compile Model**"
      ]
    },
    {
      "cell_type": "code",
      "metadata": {
        "id": "i25xeWuDSb2R"
      },
      "source": [
        "model.compile(loss=tf.keras.losses.SparseCategoricalCrossentropy(from_logits=True),\n",
        "              optimizer=tf.keras.optimizers.Adam(1e-4),\n",
        "              metrics=['accuracy'])"
      ],
      "execution_count": null,
      "outputs": []
    },
    {
      "cell_type": "markdown",
      "metadata": {
        "id": "_Gz2SC2sf_Ou"
      },
      "source": [
        "**Train the model**"
      ]
    },
    {
      "cell_type": "code",
      "metadata": {
        "colab": {
          "base_uri": "https://localhost:8080/"
        },
        "id": "LTOB4ppNSbyL",
        "outputId": "2c802800-b735-47f9-dd34-febd9e8a8235"
      },
      "source": [
        "history = model.fit(train_dataset, epochs=15,\n",
        "                    validation_data=test_dataset,\n",
        "                    validation_steps=30)"
      ],
      "execution_count": null,
      "outputs": [
        {
          "output_type": "stream",
          "text": [
            "Epoch 1/15\n",
            "2494/2494 [==============================] - 154s 56ms/step - loss: 0.1863 - accuracy: 0.9407 - val_loss: 0.1600 - val_accuracy: 0.9375\n",
            "Epoch 2/15\n",
            "2494/2494 [==============================] - 143s 57ms/step - loss: 0.1002 - accuracy: 0.9644 - val_loss: 0.1850 - val_accuracy: 0.9167\n",
            "Epoch 3/15\n",
            "2494/2494 [==============================] - 140s 56ms/step - loss: 0.0888 - accuracy: 0.9674 - val_loss: 0.1725 - val_accuracy: 0.9312\n",
            "Epoch 4/15\n",
            "2494/2494 [==============================] - 139s 56ms/step - loss: 0.0831 - accuracy: 0.9688 - val_loss: 0.1917 - val_accuracy: 0.9172\n",
            "Epoch 5/15\n",
            "2494/2494 [==============================] - 142s 57ms/step - loss: 0.0784 - accuracy: 0.9703 - val_loss: 0.1971 - val_accuracy: 0.9135\n",
            "Epoch 6/15\n",
            "2494/2494 [==============================] - 146s 58ms/step - loss: 0.0748 - accuracy: 0.9710 - val_loss: 0.2004 - val_accuracy: 0.9052\n",
            "Epoch 7/15\n",
            "2494/2494 [==============================] - 145s 58ms/step - loss: 0.0704 - accuracy: 0.9726 - val_loss: 0.2170 - val_accuracy: 0.9005\n",
            "Epoch 8/15\n",
            "2494/2494 [==============================] - 144s 58ms/step - loss: 0.0660 - accuracy: 0.9744 - val_loss: 0.2014 - val_accuracy: 0.9187\n",
            "Epoch 9/15\n",
            "2494/2494 [==============================] - 146s 58ms/step - loss: 0.0612 - accuracy: 0.9766 - val_loss: 0.2198 - val_accuracy: 0.9120\n",
            "Epoch 10/15\n",
            "2494/2494 [==============================] - 145s 58ms/step - loss: 0.0563 - accuracy: 0.9787 - val_loss: 0.2243 - val_accuracy: 0.9130\n",
            "Epoch 11/15\n",
            "2494/2494 [==============================] - 144s 58ms/step - loss: 0.0518 - accuracy: 0.9807 - val_loss: 0.2309 - val_accuracy: 0.9161\n",
            "Epoch 12/15\n",
            "2494/2494 [==============================] - 144s 58ms/step - loss: 0.0474 - accuracy: 0.9826 - val_loss: 0.2603 - val_accuracy: 0.9052\n",
            "Epoch 13/15\n",
            "2494/2494 [==============================] - 144s 58ms/step - loss: 0.0430 - accuracy: 0.9844 - val_loss: 0.2713 - val_accuracy: 0.9068\n",
            "Epoch 14/15\n",
            "2494/2494 [==============================] - 144s 58ms/step - loss: 0.0390 - accuracy: 0.9863 - val_loss: 0.2795 - val_accuracy: 0.9021\n",
            "Epoch 15/15\n",
            "2494/2494 [==============================] - 141s 57ms/step - loss: 0.0350 - accuracy: 0.9878 - val_loss: 0.3263 - val_accuracy: 0.8906\n"
          ],
          "name": "stdout"
        }
      ]
    },
    {
      "cell_type": "markdown",
      "metadata": {
        "id": "n8Lt3TKEgEUE"
      },
      "source": [
        "**Check model's final accuracy**"
      ]
    },
    {
      "cell_type": "code",
      "metadata": {
        "colab": {
          "base_uri": "https://localhost:8080/"
        },
        "id": "M5ymqjnKSbuj",
        "outputId": "1837eb76-2c70-4870-a275-8f758e9def6d"
      },
      "source": [
        "test_loss, test_acc = model.evaluate(test_dataset)\n",
        "\n",
        "print('Test Loss:', test_loss)\n",
        "print('Test Accuracy:', test_acc)"
      ],
      "execution_count": null,
      "outputs": [
        {
          "output_type": "stream",
          "text": [
            "1000/1000 [==============================] - 34s 34ms/step - loss: 0.3357 - accuracy: 0.8960\n",
            "Test Loss: 0.33566582202911377\n",
            "Test Accuracy: 0.8960424065589905\n"
          ],
          "name": "stdout"
        }
      ]
    },
    {
      "cell_type": "markdown",
      "metadata": {
        "id": "dIc8XTT-gTAy"
      },
      "source": [
        "**Plot metric's history**"
      ]
    },
    {
      "cell_type": "code",
      "metadata": {
        "colab": {
          "base_uri": "https://localhost:8080/",
          "height": 518
        },
        "id": "lHyuvmmeSbqZ",
        "outputId": "952105fe-8e58-4fe2-b92f-52ab8c706d1f"
      },
      "source": [
        "def plot_graphs(history, metric):\n",
        "  plt.plot(history.history[metric])\n",
        "  plt.plot(history.history['val_'+metric], '')\n",
        "  plt.xlabel(\"Epochs\")\n",
        "  plt.ylabel(metric)\n",
        "  plt.legend([metric, 'val_'+metric])\n",
        "\n",
        "plt.figure(figsize=(16, 8))\n",
        "plt.subplot(1, 2, 1)\n",
        "plot_graphs(history, 'accuracy')\n",
        "plt.ylim(None, 1)\n",
        "plt.subplot(1, 2, 2)\n",
        "plot_graphs(history, 'loss')\n",
        "plt.ylim(0, None)"
      ],
      "execution_count": null,
      "outputs": [
        {
          "output_type": "execute_result",
          "data": {
            "text/plain": [
              "(0.0, 0.34083121828734875)"
            ]
          },
          "metadata": {
            "tags": []
          },
          "execution_count": 14
        },
        {
          "output_type": "display_data",
          "data": {
            "image/png": "[encoded data removed]",
            "text/plain": [
              "<Figure size 1152x576 with 2 Axes>"
            ]
          },
          "metadata": {
            "tags": [],
            "needs_background": "light"
          }
        }
      ]
    },
    {
      "cell_type": "markdown",
      "metadata": {
        "id": "r2FKKllTgcLo"
      },
      "source": [
        "**Prepare list of label**\n",
        "\n",
        "This is to help in translating prediction result into category (neutral/toxic)"
      ]
    },
    {
      "cell_type": "code",
      "metadata": {
        "id": "dACAs0IUSbml"
      },
      "source": [
        "label_class=[]\n",
        "label_class.append(\"Neutral\") #0\n",
        "label_class.append(\"Toxic\") #1"
      ],
      "execution_count": null,
      "outputs": []
    },
    {
      "cell_type": "markdown",
      "metadata": {
        "id": "qbqRvn9_goi0"
      },
      "source": [
        "**Try the model**\n",
        "\n",
        "Try using the model to predict the context of an input sentence"
      ]
    },
    {
      "cell_type": "code",
      "metadata": {
        "colab": {
          "base_uri": "https://localhost:8080/"
        },
        "id": "wmwaH3S1Sbiy",
        "outputId": "cb7ff680-7b92-49d6-91f5-cfa8e5dd31b9"
      },
      "source": [
        "sample_text = ('anonymous is a bunch of ugly basement dwellers with no lives')\n",
        "predictions = model.predict(np.array([sample_text]))\n",
        "array_score = predictions[0]\n",
        "\n",
        "i=0\n",
        "max_score =-99\n",
        "index = 0\n",
        "for score in array_score:\n",
        "  if score > max_score:\n",
        "    max_score = score\n",
        "    index = i\n",
        "  else:\n",
        "    max_score=max_score\n",
        "    index=index\n",
        "  i=i+1\n",
        "print(\"Comment: \" + str(sample_text))\n",
        "print(\"This comment is:\")\n",
        "print(label_class[index])"
      ],
      "execution_count": null,
      "outputs": [
        {
          "output_type": "stream",
          "text": [
            "Comment: anonymous is a bunch of ugly basement dwellers with no lives\n",
            "This comment is:\n",
            "Toxic\n"
          ],
          "name": "stdout"
        }
      ]
    }
  ]
}